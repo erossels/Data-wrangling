{
 "cells": [
  {
   "cell_type": "markdown",
   "metadata": {},
   "source": [
    "# Data Analysis Report\n",
    "### By Eduardo Rossel"
   ]
  },
  {
   "cell_type": "markdown",
   "metadata": {},
   "source": [
    "Everyone loves dogs, or at least the people in WeRateDogs. It's interesting to look through their archive in order to see if we can answer some of the questions below:\n",
    "* What's the average rating and how are ratings distributed?  \n",
    "* Does dog stage relates to getting a higher rating?\n",
    "* Which breed of dogs gets higher ratings?\n",
    "* Do tweets with higher rating gets more retweets?\n",
    "* Which dogs stages gets more retweets?\n",
    "* Which breed of dog gets more retweets?\n",
    "\n",
    "Woof Woof! All aboard the dog train...right? \n",
    "\n",
    "### What's the average rating and how are ratings distributed?\n",
    "\n",
    "One of the most noticeable features in WeRateDogs it's there score, as in most of cases its higher than 10. \n",
    "In fact, the rating average is just above 10 and the first quarter cuts approximately on 10. \n",
    "There's still some cases in which dogs get ratings lower than 10, but it really seems that in WeRateDogs's eyes, dogs are mostly beautiful and adorable companions.\n",
    "\n",
    "![alt text](images/rating_distribution.png)\n",
    "\n",
    "### Does dog stage relates to getting a higher rating?  \n",
    "\n",
    "Everyone knows puppys are cute and usually get the mayority of the atention in the streets. So it seems kind of obvious to see if puppers had the higher ratings. Plot twist, they didn't. Puppers do have an average rating of 10.6, but this is lower than puppos, doggos and floofers. Puppos, or teenager dogs, show a higher mean rating. Its important to show that puppers have the most appearences regarding dog stages, so this could play a part in puppers having a lower average.  \n",
    "\n",
    "It's worth noticing that only a fraction of our dataset had a dog stage, nearly 20%, so there is a lot missing and maybe puppers have a chance.\n",
    "\n",
    "![alt text](images/rating_stage_dog.png)\n",
    "\n",
    "### Which breed of dogs gets higher ratings?  \n",
    "\n",
    "There are some breed of dogs that show a higher average rating, such as Samoyed, Chow and Golden Retriever. The last one, is also the breed that shows more appearences in the archive. As for the Samoyed and Chow, they are indeed popular, rating wise, but when order by count they are in 7th and 6th place.  \n",
    "\n",
    "Other breed that achieve high scores are: Labrador, Pembroke (Corgi), and Chiguaguas. The latter two appear abundantly on meme's pages so it seems likely that the will get high scores on a Twitter account.\n",
    "\n",
    "![alt text](images/breed_ratings.png)\n",
    "\n",
    "It is important to disclose that this results depend entirely on the quality of the predictions, even though they were made with the predictions with higher scores. \n",
    "\n",
    "### Does the amount of retweets of a publication relates to rating, breed or dog stage?\n",
    "\n",
    "We know the people at WeRateDogs are in it for the pups. But if they cared about profiting, and maybe they do, it would be wise to know what kind of content generates more retweets, as this is a sign of their engagement. \n",
    "\n",
    "Maybe people just retweet more the dogs that have higher scores, as they say \"everybody loves a winner\". A quick calculation of the correlation coefficient between rating and number of retweets shows us that there is only a weak correlation, as the coeffient value is approximately 0,3. \n",
    "\n",
    "So people are not so manipulable. Maybe people are more likely to retweet the picture of a pupper instead of a doggo. To check this we calculated the mean rating of dogs label in different stages. Our data shows that in average puppos have in average a higher ammount of retweets, but doggos are not that far behind. Floofs and puppers are way behind.\n",
    "\n",
    "![alt_text](images/retweets_dog_stages.png)\n",
    "\n",
    "Finally, we could see if certain breed of dog are more appealing and thus have a higher chance of being retweeted. In fact, our data shows that when it comes to breeds, people have retweeted more those tweets with breeds such as:\n",
    "French Bulldog, Samoyed, Golden Retriever, Labrador Retriever and Cocker Spaniel. This is not that big of a surprise as some of this are already in the list of [top 10 most popular breeds in the U.S](https://www.thrillist.com/news/nation/most-popular-dog-breeds-in-america-2019)\n",
    "\n",
    "![alt_text](images/retweets_breed.png)\n"
   ]
  }
 ],
 "metadata": {
  "kernelspec": {
   "display_name": "Python 3",
   "language": "python",
   "name": "python3"
  },
  "language_info": {
   "codemirror_mode": {
    "name": "ipython",
    "version": 3
   },
   "file_extension": ".py",
   "mimetype": "text/x-python",
   "name": "python",
   "nbconvert_exporter": "python",
   "pygments_lexer": "ipython3",
   "version": "3.8.3"
  }
 },
 "nbformat": 4,
 "nbformat_minor": 4
}
