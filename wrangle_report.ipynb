{
 "cells": [
  {
   "cell_type": "markdown",
   "metadata": {},
   "source": [
    "# Wrangle report\n",
    "### By Eduardo Rossel\n",
    "\n",
    "The following reports is meant to summarize the efforts made in the Data Wrangling of the WeRateDogs's tweet archive. The WeRateDogs account refers itself as \"Your Only Source For Professional Dog Ratings\". Each of their tweets includes a brief description of the dog, the dog name, dog \"stage\", a rating and an image of the dog.  \n",
    "Up next, we'll describe \n",
    "\n",
    "\n",
    "\n",
    "contains basic tweet data for all 5000+ of their tweets, but not everything. One column the archive does contain though: each tweet's text, which I used to extract rating, dog name, and dog \"stage\" (i.e. doggo, floofer, pupper, and puppo) to make this Twitter archive \"enhanced.\" Of the 5000+ tweets, I have filtered for tweets with ratings only (there are 2356)."
   ]
  }
 ],
 "metadata": {
  "kernelspec": {
   "display_name": "Python 3",
   "language": "python",
   "name": "python3"
  },
  "language_info": {
   "codemirror_mode": {
    "name": "ipython",
    "version": 3
   },
   "file_extension": ".py",
   "mimetype": "text/x-python",
   "name": "python",
   "nbconvert_exporter": "python",
   "pygments_lexer": "ipython3",
   "version": "3.8.3"
  }
 },
 "nbformat": 4,
 "nbformat_minor": 4
}
